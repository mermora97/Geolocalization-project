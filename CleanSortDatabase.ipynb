{
 "cells": [
  {
   "cell_type": "code",
   "execution_count": 2,
   "metadata": {},
   "outputs": [],
   "source": [
    "import re \n",
    "import pandas as pd\n",
    "import functions.currencyconverter as cc\n",
    "from functions.database import createOfficeDoc, connectCollection"
   ]
  },
  {
   "cell_type": "code",
   "execution_count": 3,
   "metadata": {},
   "outputs": [],
   "source": [
    "#Establish connection to database\n",
    "db, coll = connectCollection('companies','companies')"
   ]
  },
  {
   "cell_type": "code",
   "execution_count": 7,
   "metadata": {
    "scrolled": true
   },
   "outputs": [
    {
     "name": "stdout",
     "output_type": "stream",
     "text": [
      "3049  documents deleted.\n"
     ]
    }
   ],
   "source": [
    "#Create a copy of the initial collection with fields of interest only\n",
    "companies = db['companies']\n",
    "\n",
    "#Clearing \n",
    "#1- Those companies whose deadpooled_year is not null are understood as available for renting offices\n",
    "isAvailable = (lambda d: True if d['deadpooled_year'] not in ['',None] else False)\n",
    "for company in companies.find():\n",
    "    companies.update_one(company,{'$set':{'isAvailable':isAvailable(company)}})\n",
    "\n",
    "#2- Clean those that dont have offices, have not raised any money and do not provide founded_year information\n",
    "count = companies.delete_many({'offices':[],'total_money_raised':'$0','founded_year':None})\n",
    "print(count.deleted_count, ' documents deleted.')"
   ]
  },
  {
   "cell_type": "code",
   "execution_count": 9,
   "metadata": {},
   "outputs": [
    {
     "name": "stdout",
     "output_type": "stream",
     "text": [
      "Number of tech startups availables in the dataset:  105\n",
      "Number of companies with available offices in the dataset:  894\n"
     ]
    }
   ],
   "source": [
    "#WEB SCRAPPING FOR CURRENCY EXCHANGE\n",
    "import currencyconverter as cc\n",
    "\n",
    "foi = {'name':1,'category_code':1,'founded_year':1,'deadpooled_year':1,'description':1,\n",
    "       'total_money_raised':1,'offices':1,'isAvailable':1,'isTech':1}\n",
    "\n",
    "df = pd.DataFrame(list(db['companies'].find({},foi)))\n",
    "df['total_money_raised'] = df['total_money_raised'].apply(cc.moneyConverter)\n",
    "\n",
    "#To take tech startups we check tech in the category_name column\n",
    "isTech = lambda s: bool(re.findall('tech',s)) if s else False\n",
    "\n",
    "df['isTech'] = (df['founded_year']>2005) & (df['total_money_raised']>1) & (df['category_code'].apply(isTech)\n",
    "                                                                          & (df['isAvailable'] == False))\n",
    "\n",
    "print('Number of tech startups availables in the dataset: ',df['isTech'].sum())\n",
    "print('Number of companies with available offices in the dataset: ',df['isAvailable'].sum())"
   ]
  },
  {
   "cell_type": "code",
   "execution_count": 10,
   "metadata": {},
   "outputs": [
    {
     "data": {
      "text/plain": [
       "<pymongo.results.InsertManyResult at 0x7f99304e3730>"
      ]
     },
     "execution_count": 10,
     "metadata": {},
     "output_type": "execute_result"
    }
   ],
   "source": [
    "#Save dataframe with implemented changes in mongo\n",
    "db['companies'].drop()\n",
    "db['companies'].insert_many(df.T.to_dict().values())\n"
   ]
  },
  {
   "cell_type": "code",
   "execution_count": 12,
   "metadata": {},
   "outputs": [
    {
     "data": {
      "text/plain": [
       "<pymongo.results.UpdateResult at 0x7f992a8ddcd0>"
      ]
     },
     "execution_count": 12,
     "metadata": {},
     "output_type": "execute_result"
    }
   ],
   "source": [
    "#Create offices collection to save the offices information \n",
    "#This collection will be relationed with the companies collection by company_id\n",
    "\n",
    "for company in db['companies'].find():\n",
    "    for office in company['offices']:\n",
    "        db['offices'].insert_one(createOfficeDoc(company,office))       \n",
    "        \n",
    "#Delete offices information from companies collection\n",
    "db['companies'].update_many({},{'$unset':{'offices':''}})"
   ]
  }
 ],
 "metadata": {
  "kernelspec": {
   "display_name": "Python 3",
   "language": "python",
   "name": "python3"
  },
  "language_info": {
   "codemirror_mode": {
    "name": "ipython",
    "version": 3
   },
   "file_extension": ".py",
   "mimetype": "text/x-python",
   "name": "python",
   "nbconvert_exporter": "python",
   "pygments_lexer": "ipython3",
   "version": "3.7.5rc1"
  }
 },
 "nbformat": 4,
 "nbformat_minor": 2
}
