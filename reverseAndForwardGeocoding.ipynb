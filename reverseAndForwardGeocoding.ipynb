{
 "cells": [
  {
   "cell_type": "code",
   "execution_count": 1,
   "metadata": {},
   "outputs": [],
   "source": [
    "from pymongo import MongoClient\n",
    "import pandas as pd\n",
    "from bson import ObjectId\n",
    "from location import findCityFromCoords, findCoordsFromCity"
   ]
  },
  {
   "cell_type": "code",
   "execution_count": 2,
   "metadata": {},
   "outputs": [],
   "source": [
    "client = MongoClient()\n",
    "db = client['companies']\n",
    "companies = db['companies']\n",
    "offices = db['offices']"
   ]
  },
  {
   "cell_type": "code",
   "execution_count": 4,
   "metadata": {},
   "outputs": [],
   "source": [
    "#Perform a reverse geocoding query to find the city in the offices that have coordinates\n",
    "startups = companies.find({'isTech':True})\n",
    "available_offices = companies.find({'isAvailable':True})\n",
    "\n",
    "for company in startups:\n",
    "    for office in offices.find({'company':ObjectId(company['_id']),\n",
    "                                'city':{'$in':['',None]},\n",
    "                                'location.coordinates':{'$ne':[0,0]}}):\n",
    "        city = findCityFromCoords(office)\n",
    "        if city == 'Unknown':\n",
    "            offices.delete_one(office)\n",
    "        offices.update_one(office,{'$set':{'city':city}})\n",
    "\n",
    "for company in available_offices:\n",
    "    for office in offices.find({'company':ObjectId(company['_id']),\n",
    "                                'city':{'$in':['',None]},\n",
    "                                'location.coordinates':{'$ne':[0,0]}}):\n",
    "        city = findCityFromCoords(office)\n",
    "        if city == 'Unknown':\n",
    "            offices.delete_one(office)\n",
    "        offices.update_one(office,{'$set':{'city':city}})"
   ]
  },
  {
   "cell_type": "code",
   "execution_count": 5,
   "metadata": {},
   "outputs": [
    {
     "data": {
      "text/plain": [
       "{'_id': ObjectId('52cdef7c4bab8bd675297d8b'),\n",
       " 'name': 'AdventNet',\n",
       " 'category_code': 'enterprise',\n",
       " 'founded_year': 1996.0,\n",
       " 'deadpooled_year': 2.0,\n",
       " 'description': 'Server Management Software',\n",
       " 'total_money_raised': 0.0,\n",
       " 'isAvailable': True,\n",
       " 'isTech': False}"
      ]
     },
     "execution_count": 5,
     "metadata": {},
     "output_type": "execute_result"
    }
   ],
   "source": [
    "companies.find()[0]"
   ]
  },
  {
   "cell_type": "code",
   "execution_count": 53,
   "metadata": {},
   "outputs": [],
   "source": [
    "#Perform a forward geocoding query to find the approximated coordinates from the office adress\n",
    "startups = companies.find({'isTech':True})\n",
    "available_offices = companies.find({'isAvailable':True})\n",
    "\n",
    "for company in startups:\n",
    "    for office in offices.find({'company':ObjectId(company['_id']),\n",
    "                                'city':{'$nin':['',None]},\n",
    "                                'location.coordinates':[0,0]}):\n",
    "        loc = findCoordsFromCity(office)\n",
    "        if loc == 'Unknown':\n",
    "            offices.delete_one(office)\n",
    "        offices.update_one(office,{'$set':{'location':loc}})\n",
    "\n",
    "for company in available_offices:\n",
    "    for office in offices.find({'company':ObjectId(company['_id']),\n",
    "                                'city':{'$nin':['',None]},\n",
    "                                'location.coordinates':[0,0]}):\n",
    "        loc = findCoordsFromCity(office)\n",
    "        if loc == 'Unknown':\n",
    "            offices.delete_one(office)\n",
    "        offices.update_one(office,{'$set':{'location':loc}})"
   ]
  },
  {
   "cell_type": "code",
   "execution_count": 99,
   "metadata": {},
   "outputs": [
    {
     "data": {
      "text/plain": [
       "San Francisco    16\n",
       "Los Angeles       4\n",
       "New York City     4\n",
       "Boston            3\n",
       "Santa Monica      2\n",
       "Name: Location, dtype: int64"
      ]
     },
     "execution_count": 99,
     "metadata": {},
     "output_type": "execute_result"
    }
   ],
   "source": [
    "#A database with tech companies download from angellist \n",
    "#Future development\n",
    "\n",
    "df_startups = pd.read_csv('startups.csv')\n",
    "df_startups['Total Raised'] = df_startups['Total Raised'].apply(lambda s:round(s/1000000,1))\n",
    "df_startups.Location.value_counts().head(5)"
   ]
  }
 ],
 "metadata": {
  "kernelspec": {
   "display_name": "Python 3",
   "language": "python",
   "name": "python3"
  },
  "language_info": {
   "codemirror_mode": {
    "name": "ipython",
    "version": 3
   },
   "file_extension": ".py",
   "mimetype": "text/x-python",
   "name": "python",
   "nbconvert_exporter": "python",
   "pygments_lexer": "ipython3",
   "version": "3.7.5rc1"
  }
 },
 "nbformat": 4,
 "nbformat_minor": 2
}
