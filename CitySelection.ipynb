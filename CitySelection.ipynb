{
 "cells": [
  {
   "cell_type": "code",
   "execution_count": 1,
   "metadata": {},
   "outputs": [],
   "source": [
    "from pymongo import MongoClient\n",
    "import pandas as pd\n",
    "from bson import ObjectId\n",
    "from database import officesDataFrame\n",
    "\n",
    "client = MongoClient()\n",
    "db = client['companies']"
   ]
  },
  {
   "cell_type": "code",
   "execution_count": 10,
   "metadata": {},
   "outputs": [
    {
     "name": "stdout",
     "output_type": "stream",
     "text": [
      "City to create my company: \n"
     ]
    },
    {
     "data": {
      "text/plain": [
       "Cambridge              9\n",
       "Redwood City           5\n",
       "San Francisco          5\n",
       "South San Francisco    4\n",
       "Seattle                4\n",
       "                      ..\n",
       "Redwood Shores         1\n",
       "Paris                  1\n",
       "New Delhi              1\n",
       "Arvada                 1\n",
       "King of Prussia        1\n",
       "Name: city, Length: 84, dtype: int64"
      ]
     },
     "execution_count": 10,
     "metadata": {},
     "output_type": "execute_result"
    }
   ],
   "source": [
    "#Create dataframe containing all the offices of the startup_tech companies\n",
    "#Create dataframe containing all the offices available for renting\n",
    "\n",
    "df_startups = officesDataFrame(db,{'isTech':True})\n",
    "#df_available_offices = officesDataFrame(db,{'isAvailable':True})\n",
    "\n",
    "#Take the 3 cities with highest number of tech startups\n",
    "print('City to create my company: ')\n",
    "selected_city = df_startups.city\n",
    "df_startups.city.value_counts()"
   ]
  },
  {
   "cell_type": "code",
   "execution_count": 16,
   "metadata": {},
   "outputs": [],
   "source": [
    "#Keep only those offices in the desired cities\n",
    "df_available_offices = df_available_offices[df_available_offices.\n",
    "                                            apply(lambda s:s['city'] in selected_cities, axis = 1)]\n",
    "df_startups = df_startups[df_startups.\n",
    "                          apply(lambda s:s['city'] in selected_cities, axis = 1)]\n",
    "\n",
    "db['startups'].insert_many(df_startups.T.to_dict().values())\n",
    "db['rentings'].insert_many(df_available_offices.T.to_dict().values())"
   ]
  },
  {
   "cell_type": "code",
   "execution_count": 18,
   "metadata": {},
   "outputs": [],
   "source": [
    "#Geolocalization\n",
    "from location import invertCoordinates\n",
    "\n",
    "#First invert coordinates [long,lat]\n",
    "invertCoordinates(db['startups'])\n",
    "invertCoordinates(db['rentings'])"
   ]
  },
  {
   "cell_type": "code",
   "execution_count": 24,
   "metadata": {},
   "outputs": [
    {
     "data": {
      "text/html": [
       "<div style=\"width:100%;\"><div style=\"position:relative;width:100%;height:0;padding-bottom:60%;\"><iframe src=\"data:text/html;charset=utf-8;base64,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\" style=\"position:absolute;width:100%;height:100%;left:0;top:0;border:none !important;\" allowfullscreen webkitallowfullscreen mozallowfullscreen></iframe></div></div>"
      ],
      "text/plain": [
       "<folium.folium.Map at 0x7f17573dea50>"
      ]
     },
     "execution_count": 24,
     "metadata": {},
     "output_type": "execute_result"
    }
   ],
   "source": [
    "#Map with tech startups and available offices in San Francisco\n",
    "\n",
    "import folium\n",
    "#latitude, longitude\n",
    "m =folium.Map(location=[37.773972, -122.431297],zoom_start=13)\n",
    "\n",
    "for office in db['city_study'].find():\n",
    "    if office['classification'] == 'Tech Startup':\n",
    "        folium.Marker(office['coordinates'],radius=2,\n",
    "                        icon=folium.Icon(icon='android',prefix='fa',color='darkblue')).add_to(m)\n",
    "    elif office['classification'] == 'Renting':\n",
    "        folium.Marker(office['coordinates'],radius=2,\n",
    "                        icon=folium.Icon(icon='home',prefix='fa',color='red')).add_to(m)\n",
    "    elif office['classification'] == 'Starbucks':\n",
    "        folium.Marker(office['coordinates'],radius=2,\n",
    "                        icon=folium.Icon(icon='coffee',prefix='fa',color='darkgreen')).add_to(m)\n",
    "\n",
    "\n",
    "m.save('startups_map')\n",
    "m"
   ]
  },
  {
   "cell_type": "code",
   "execution_count": 82,
   "metadata": {},
   "outputs": [
    {
     "name": "stdout",
     "output_type": "stream",
     "text": [
      "Cambridge\n",
      "Starbucks in Cambridge\n"
     ]
    },
    {
     "ename": "NameError",
     "evalue": "name 'googleQuery' is not defined",
     "output_type": "error",
     "traceback": [
      "\u001b[0;31m---------------------------------------------------------------------------\u001b[0m",
      "\u001b[0;31mNameError\u001b[0m                                 Traceback (most recent call last)",
      "\u001b[0;32m<ipython-input-82-2043f41fc4de>\u001b[0m in \u001b[0;36m<module>\u001b[0;34m()\u001b[0m\n\u001b[1;32m     20\u001b[0m     \u001b[0mprint\u001b[0m\u001b[0;34m(\u001b[0m\u001b[0mcity\u001b[0m\u001b[0;34m)\u001b[0m\u001b[0;34m\u001b[0m\u001b[0;34m\u001b[0m\u001b[0m\n\u001b[1;32m     21\u001b[0m     \u001b[0mprint\u001b[0m\u001b[0;34m(\u001b[0m\u001b[0;34mf'Starbucks in {city}'\u001b[0m\u001b[0;34m)\u001b[0m\u001b[0;34m\u001b[0m\u001b[0;34m\u001b[0m\u001b[0m\n\u001b[0;32m---> 22\u001b[0;31m     \u001b[0mres\u001b[0m \u001b[0;34m=\u001b[0m \u001b[0mgoogleQuery\u001b[0m\u001b[0;34m(\u001b[0m\u001b[0;34mf'Starbucks in {city}'\u001b[0m\u001b[0;34m)\u001b[0m\u001b[0;34m\u001b[0m\u001b[0;34m\u001b[0m\u001b[0m\n\u001b[0m\u001b[1;32m     23\u001b[0m     \u001b[0mnext_page_token\u001b[0m \u001b[0;34m=\u001b[0m \u001b[0mres\u001b[0m\u001b[0;34m.\u001b[0m\u001b[0mjson\u001b[0m\u001b[0;34m(\u001b[0m\u001b[0;34m)\u001b[0m\u001b[0;34m.\u001b[0m\u001b[0mget\u001b[0m\u001b[0;34m(\u001b[0m\u001b[0;34m'next_page_token'\u001b[0m\u001b[0;34m,\u001b[0m\u001b[0;32mNone\u001b[0m\u001b[0;34m)\u001b[0m\u001b[0;34m\u001b[0m\u001b[0;34m\u001b[0m\u001b[0m\n\u001b[1;32m     24\u001b[0m     \u001b[0;32mwhile\u001b[0m \u001b[0mnext_page_token\u001b[0m\u001b[0;34m:\u001b[0m\u001b[0;34m\u001b[0m\u001b[0;34m\u001b[0m\u001b[0m\n",
      "\u001b[0;31mNameError\u001b[0m: name 'googleQuery' is not defined"
     ]
    }
   ],
   "source": [
    "#Time to find the starbucks\n",
    "from dotenv import load_dotenv\n",
    "load_dotenv()\n",
    "\n",
    "#latitude longitude\n",
    "def starbucksToMongo(res,city):\n",
    "    starbucks = []\n",
    "    for r in res['results']:\n",
    "        starbucks.append({\n",
    "            'classification':'Starbucks',\n",
    "            'address':r['formatted_address'],\n",
    "            'city': city,\n",
    "            'country':r['formatted_address'].split(', ')[-1],\n",
    "            'coordinates':[*r['geometry']['location'].values()],\n",
    "            'rating':r['rating']\n",
    "        })\n",
    "    return starbucks\n",
    "\n",
    "for city in selected_cities:\n",
    "    res = googleQuery(f'Starbucks in {city}')\n",
    "    db['city_study'].insert_many(starbucksToMongo(res,city))\n",
    "        print(starbucksToMongo(res.json(),city))\n",
    "        res = googleQuery(f'Starbucks in {city}',next_page_token)\n",
    "        next_page_token = res.json().get('next_page_token',None)\n",
    "    print(starbucksToMongo(res.json(),city))\n",
    "    #db['city_study'].insert_many(starbucksToMongo(res,city))    \n"
   ]
  },
  {
   "cell_type": "code",
   "execution_count": 205,
   "metadata": {},
   "outputs": [
    {
     "data": {
      "text/plain": [
       "'CrQDqQEAAFPpCKXQa85ZsUXhAxu9Jxx-0P6wVb_bhWdw9L4LwmVzl2vCQGLjpUkPEfj0lTmTBBRdOZDkgBpalwzen5J-bJaTE3FJpz42XujoyH9kJkD-S_3qSPrQsHxL33O2gqhwVEX7y6zx0pmVvI3x3TRsWkk443hd6aas7TZgmkge1RHP4NpkufFqaLBKLyHrdgIRTJf449lDIg25-VauBS7J2diIP_NQVYeNKOWxR6ohAp4i7lJKC1qFfkwMBYwo5nXOpLGugvDBzbzV3pJNgNjrTlJhirm7NLxcCpA6s3BB0ygkBKjBJThVUX2Id6pFpr0K12LMFeJQhmPxlp5gzAMUvCVf9sy61ybASoRTJzxknsYfUo8QtAUrrdcvpWm7wPbL8Il3POGp3rh2aZQ8eTruO2aPYG13VMecBk3M-aRSj6GBYsId7ubByI2hXqr6yQAnhH04BSVH9jR_S61YSw_6dqBt5Pqark__H5LJ32j-aPHzRRiU_Y-NBmLja-0Jrl_4z1P6FNHNDT6r2PdWHV00BZ3yjuGTKQPXVCrBRiQ7iQ-aCfUnvu5_wi6wjasqbHeZARIQKTAKOyuEPxDOJPtJ2D5OahoUggGR5UiJNOmBabtLDTtUusMQbS8'"
      ]
     },
     "execution_count": 205,
     "metadata": {},
     "output_type": "execute_result"
    }
   ],
   "source": [
    "next_page_token = res.json().get('next_page_token',None)\n",
    "next_page_token"
   ]
  },
  {
   "cell_type": "code",
   "execution_count": 199,
   "metadata": {},
   "outputs": [
    {
     "name": "stdout",
     "output_type": "stream",
     "text": [
      "We have a github token:  AIza\n"
     ]
    }
   ],
   "source": [
    "def googleQuery(query,pagetoken):\n",
    "    authToken = f.authorizationKey('GOOGLE_TOKEN')\n",
    "    url = f'https://maps.googleapis.com/maps/api/place/textsearch/json?query={query}&pagetoken={pagetoken}&key={authToken}'\n",
    "    return requests.get(url)\n",
    "\n",
    "res3 = googleQuery('Starbucks in San Francisco',next_page_token)"
   ]
  }
 ],
 "metadata": {
  "kernelspec": {
   "display_name": "Python 3",
   "language": "python",
   "name": "python3"
  },
  "language_info": {
   "codemirror_mode": {
    "name": "ipython",
    "version": 3
   },
   "file_extension": ".py",
   "mimetype": "text/x-python",
   "name": "python",
   "nbconvert_exporter": "python",
   "pygments_lexer": "ipython3",
   "version": "3.7.5rc1"
  }
 },
 "nbformat": 4,
 "nbformat_minor": 2
}
