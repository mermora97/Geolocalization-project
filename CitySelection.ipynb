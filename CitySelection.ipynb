{
 "cells": [
  {
   "cell_type": "code",
   "execution_count": 4,
   "metadata": {},
   "outputs": [],
   "source": [
    "from pymongo import MongoClient\n",
    "import pandas as pd\n",
    "from bson import ObjectId\n",
    "from functions.database import officesDataFrame\n",
    "client = MongoClient()\n",
    "db = client['companies']"
   ]
  },
  {
   "cell_type": "code",
   "execution_count": 9,
   "metadata": {},
   "outputs": [
    {
     "name": "stdout",
     "output_type": "stream",
     "text": [
      "Number of startups in the 3 cities with most startups: \n",
      "Cambridge        9\n",
      "San Francisco    5\n",
      "Redwood City     5\n",
      "Name: city, dtype: int64\n",
      "Number of available offices for renting: \n",
      "San Francisco    63\n",
      "London           33\n",
      "New York         33\n",
      "Name: city, dtype: int64\n"
     ]
    }
   ],
   "source": [
    "#Create dataframe containing all the offices of the startup_tech companies\n",
    "#Create dataframe containing all the offices available for renting\n",
    "\n",
    "df_startups = officesDataFrame(db,{'isTech':True})\n",
    "df_available_offices = officesDataFrame(db,{'isAvailable':True})\n",
    "\n",
    "#Take the 3 cities with highest number of tech startups\n",
    "print('Number of startups in the 3 cities with most startups: ')\n",
    "print(df_startups.city.value_counts().head(3))\n",
    "print('Number of available offices for renting: ')\n",
    "print(df_available_offices.city.value_counts().head(3))"
   ]
  },
  {
   "cell_type": "code",
   "execution_count": 16,
   "metadata": {},
   "outputs": [],
   "source": [
    "#Keep only those offices in the desired cities\n",
    "df_available_offices = df_available_offices[df_available_offices.\n",
    "                                            apply(lambda s:s['city'] in selected_cities, axis = 1)]\n",
    "df_startups = df_startups[df_startups.\n",
    "                          apply(lambda s:s['city'] in selected_cities, axis = 1)]\n",
    "\n",
    "db['startups'].insert_many(df_startups.T.to_dict().values())\n",
    "db['rentings'].insert_many(df_available_offices.T.to_dict().values())"
   ]
  }
 ],
 "metadata": {
  "kernelspec": {
   "display_name": "Python 3",
   "language": "python",
   "name": "python3"
  },
  "language_info": {
   "codemirror_mode": {
    "name": "ipython",
    "version": 3
   },
   "file_extension": ".py",
   "mimetype": "text/x-python",
   "name": "python",
   "nbconvert_exporter": "python",
   "pygments_lexer": "ipython3",
   "version": "3.7.5rc1"
  }
 },
 "nbformat": 4,
 "nbformat_minor": 2
}
